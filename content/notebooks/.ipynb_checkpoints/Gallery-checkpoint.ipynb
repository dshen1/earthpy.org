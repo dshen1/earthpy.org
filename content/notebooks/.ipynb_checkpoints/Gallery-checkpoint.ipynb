{
 "metadata": {
  "name": ""
 },
 "nbformat": 3,
 "nbformat_minor": 0,
 "worksheets": [
  {
   "cells": [
    {
     "cell_type": "heading",
     "level": 1,
     "metadata": {},
     "source": [
      "A gallery of IPython Notebooks related to Earth Sciences"
     ]
    },
    {
     "cell_type": "markdown",
     "metadata": {},
     "source": [
      "This page is similar to the great [Gallery of interesting IPython Notebooks](https://github.com/ipython/ipython/wiki/A-gallery-of-interesting-IPython-Notebooks), but with emphasis on Earth Sciences."
     ]
    },
    {
     "cell_type": "markdown",
     "metadata": {},
     "source": [
      "======================="
     ]
    },
    {
     "cell_type": "markdown",
     "metadata": {},
     "source": [
      "[THREDDS Data Server (TDS) - Using Python to Access Data](https://github.com/Unidata/tds-python-workshop) with a lot of interesting examples of netCDF usage."
     ]
    },
    {
     "cell_type": "markdown",
     "metadata": {},
     "source": [
      "[Access data from the NECOFS (New England Coastal Ocean Forecast System) via OPeNDAP](http://nbviewer.ipython.org/github/rsignell-usgs/ipython-notebooks/blob/master/files/FVCOM_depth_and_velocity.ipynb) with nice visualization of currents at the end."
     ]
    },
    {
     "cell_type": "markdown",
     "metadata": {},
     "source": [
      "[Warming of the oceans](http://nbviewer.ipython.org/github/robertodealmeida/notebooks/blob/master/scientific_american/Scientific%20American%20graph.ipynb) - generates  plot of the global, Atlantic and Pacific sea surface temperature from 1900 to present."
     ]
    },
    {
     "cell_type": "markdown",
     "metadata": {},
     "source": [
      "[Cleaning up the Mediterranean!](http://nbviewer.ipython.org/github/robertodealmeida/notebooks/blob/master/cleaning_mediterranean/Cleaning%20up%20the%20Mediterranean.ipynb) - calculates convergence in Mediterranean sea."
     ]
    },
    {
     "cell_type": "markdown",
     "metadata": {},
     "source": [
      "[Climate data and analysis in computable form](https://github.com/certik/climate) - part of the goal is to reproduce graphs and results from literature."
     ]
    },
    {
     "cell_type": "markdown",
     "metadata": {},
     "source": [
      "[Code and plots of the Arctic surface radiation budget for the 2013 Arctic Report Card.](https://github.com/vonw/Arctic-Report-Card-2013)"
     ]
    },
    {
     "cell_type": "markdown",
     "metadata": {},
     "source": [
      "[Introduction to programming for Geoscientists (through Python)](https://github.com/ggorman/Introduction-to-programming-for-geoscientists) by Gerard J. Gorman."
     ]
    },
    {
     "cell_type": "markdown",
     "metadata": {},
     "source": [
      "[Making sea ice data accessible with ipython notebooks](http://nbviewer.ipython.org/urls/dl.dropbox.com/u/354885/notebooks/Arctic-Sea-Ice-V1.0.ipynb) - from [this post](http://forum.arctic-sea-ice.net/index.php?topic=158.0) at the Arctic Sea Ice forum."
     ]
    },
    {
     "cell_type": "code",
     "collapsed": false,
     "input": [],
     "language": "python",
     "metadata": {},
     "outputs": []
    }
   ],
   "metadata": {}
  }
 ]
}